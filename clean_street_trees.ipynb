{
  "cells": [
    {
      "cell_type": "code",
      "execution_count": null,
      "metadata": {
        "id": "SgNwbQ5rnGwF"
      },
      "outputs": [],
      "source": [
        "# Install libraries\n",
        "!pip install pandas"
      ]
    },
    {
      "cell_type": "code",
      "execution_count": null,
      "metadata": {
        "id": "vEbR_tWHnGwP"
      },
      "outputs": [],
      "source": [
        "# Import libraries\n",
        "import numpy as np\n",
        "import pandas as pd"
      ]
    },
    {
      "cell_type": "code",
      "execution_count": null,
      "metadata": {
        "id": "D02F73-jnGwQ"
      },
      "outputs": [],
      "source": [
        "# Import the raw file\n",
        "# df = pd.read_csv(r'raw-files/street-trees.csv')\n",
        "df = pd.read_csv(r'street-trees.csv')\n",
        "\n",
        "\n",
        "# Select columns\n",
        "df = df[['_id', 'WARD', 'COMMON_NAME', 'geometry']]\n",
        "\n",
        "# Filter 'COMMON_NAME' column: Keep the name before comma\n",
        "df['COMMON_NAME'] = df['COMMON_NAME'].apply(lambda x: str(x).split(',', 1)[0])\n",
        "\n",
        "# Seperate latitude and longitude from 'geometry'\n",
        "df['geometry'] = df['geometry'].apply(lambda x: str(x).split(',', 1)[1])\n",
        "df['geometry'] = df['geometry'].apply(lambda x: str(x).split('(', 1)[1])\n",
        "df['geometry'] = df['geometry'].apply(lambda x: str(x).split(')', 1)[0])\n",
        "df['latitude'] = df['geometry'].apply(lambda x: str(x).split(',', 1)[0])\n",
        "df['longitude'] = df['geometry'].apply(lambda x: str(x).split(',', 1)[1])\n",
        "\n",
        "# Select columns\n",
        "df = df[['_id', 'WARD', 'COMMON_NAME', 'latitude', 'longitude']]"
      ]
    },
    {
      "cell_type": "code",
      "execution_count": null,
      "metadata": {
        "id": "tO9omcz2nGwS",
        "outputId": "9b5450b9-58d9-4c56-a356-9ada5d4cc898"
      },
      "outputs": [
        {
          "data": {
            "text/html": [
              "<div>\n",
              "<style scoped>\n",
              "    .dataframe tbody tr th:only-of-type {\n",
              "        vertical-align: middle;\n",
              "    }\n",
              "\n",
              "    .dataframe tbody tr th {\n",
              "        vertical-align: top;\n",
              "    }\n",
              "\n",
              "    .dataframe thead th {\n",
              "        text-align: right;\n",
              "    }\n",
              "</style>\n",
              "<table border=\"1\" class=\"dataframe\">\n",
              "  <thead>\n",
              "    <tr style=\"text-align: right;\">\n",
              "      <th></th>\n",
              "      <th>_id</th>\n",
              "      <th>AREA</th>\n",
              "      <th>COMMON_NAME</th>\n",
              "      <th>latitude</th>\n",
              "      <th>longitude</th>\n",
              "    </tr>\n",
              "  </thead>\n",
              "  <tbody>\n",
              "    <tr>\n",
              "      <th>0</th>\n",
              "      <td>1</td>\n",
              "      <td>Toronto and East York</td>\n",
              "      <td>Ash</td>\n",
              "      <td>-79.4161873311</td>\n",
              "      <td>43.6495364522</td>\n",
              "    </tr>\n",
              "    <tr>\n",
              "      <th>1</th>\n",
              "      <td>2</td>\n",
              "      <td>North York</td>\n",
              "      <td>Birch</td>\n",
              "      <td>-79.3545349538</td>\n",
              "      <td>43.8037189559</td>\n",
              "    </tr>\n",
              "    <tr>\n",
              "      <th>2</th>\n",
              "      <td>3</td>\n",
              "      <td>Scarborough</td>\n",
              "      <td>Maple</td>\n",
              "      <td>-79.2760802498</td>\n",
              "      <td>43.6776251577</td>\n",
              "    </tr>\n",
              "    <tr>\n",
              "      <th>3</th>\n",
              "      <td>4</td>\n",
              "      <td>North York</td>\n",
              "      <td>Elm</td>\n",
              "      <td>-79.425205778</td>\n",
              "      <td>43.7436916068</td>\n",
              "    </tr>\n",
              "    <tr>\n",
              "      <th>4</th>\n",
              "      <td>5</td>\n",
              "      <td>North York</td>\n",
              "      <td>Spruce</td>\n",
              "      <td>-79.3153757934</td>\n",
              "      <td>43.7338889215</td>\n",
              "    </tr>\n",
              "    <tr>\n",
              "      <th>...</th>\n",
              "      <td>...</td>\n",
              "      <td>...</td>\n",
              "      <td>...</td>\n",
              "      <td>...</td>\n",
              "      <td>...</td>\n",
              "    </tr>\n",
              "    <tr>\n",
              "      <th>662147</th>\n",
              "      <td>662148</td>\n",
              "      <td>Toronto and East York</td>\n",
              "      <td>Linden</td>\n",
              "      <td>-79.4304989828</td>\n",
              "      <td>43.6621039259</td>\n",
              "    </tr>\n",
              "    <tr>\n",
              "      <th>662148</th>\n",
              "      <td>662149</td>\n",
              "      <td>Scarborough</td>\n",
              "      <td>Oak</td>\n",
              "      <td>-79.3235015348</td>\n",
              "      <td>43.8084725945</td>\n",
              "    </tr>\n",
              "    <tr>\n",
              "      <th>662149</th>\n",
              "      <td>662150</td>\n",
              "      <td>North York</td>\n",
              "      <td>Maple</td>\n",
              "      <td>-79.4716487615</td>\n",
              "      <td>43.755339238</td>\n",
              "    </tr>\n",
              "    <tr>\n",
              "      <th>662150</th>\n",
              "      <td>662151</td>\n",
              "      <td>Toronto and East York</td>\n",
              "      <td>Maple</td>\n",
              "      <td>-79.3254415253</td>\n",
              "      <td>43.6811517468</td>\n",
              "    </tr>\n",
              "    <tr>\n",
              "      <th>662151</th>\n",
              "      <td>662152</td>\n",
              "      <td>North York</td>\n",
              "      <td>Maple</td>\n",
              "      <td>-79.3995195577</td>\n",
              "      <td>43.7759904965</td>\n",
              "    </tr>\n",
              "  </tbody>\n",
              "</table>\n",
              "<p>662152 rows × 5 columns</p>\n",
              "</div>"
            ],
            "text/plain": [
              "           _id                   AREA COMMON_NAME        latitude  \\\n",
              "0            1  Toronto and East York         Ash  -79.4161873311   \n",
              "1            2             North York       Birch  -79.3545349538   \n",
              "2            3            Scarborough       Maple  -79.2760802498   \n",
              "3            4             North York         Elm   -79.425205778   \n",
              "4            5             North York      Spruce  -79.3153757934   \n",
              "...        ...                    ...         ...             ...   \n",
              "662147  662148  Toronto and East York      Linden  -79.4304989828   \n",
              "662148  662149            Scarborough         Oak  -79.3235015348   \n",
              "662149  662150             North York       Maple  -79.4716487615   \n",
              "662150  662151  Toronto and East York       Maple  -79.3254415253   \n",
              "662151  662152             North York       Maple  -79.3995195577   \n",
              "\n",
              "             longitude  \n",
              "0        43.6495364522  \n",
              "1        43.8037189559  \n",
              "2        43.6776251577  \n",
              "3        43.7436916068  \n",
              "4        43.7338889215  \n",
              "...                ...  \n",
              "662147   43.6621039259  \n",
              "662148   43.8084725945  \n",
              "662149    43.755339238  \n",
              "662150   43.6811517468  \n",
              "662151   43.7759904965  \n",
              "\n",
              "[662152 rows x 5 columns]"
            ]
          },
          "execution_count": 3,
          "metadata": {},
          "output_type": "execute_result"
        }
      ],
      "source": [
        "# Group wards into community area\n",
        "toronto = [10, 11, 12, 13, 14]\n",
        "\n",
        "df['WARD'] = df['WARD'].replace([1, 2, 3, 5, 7], 'Etobicoke York')\n",
        "df['WARD'] = df['WARD'].replace([6, 8, 15, 16, 17, 18], 'North York')\n",
        "df['WARD'] = df['WARD'].replace([4, 9, 10, 11, 12, 13, 14, 19], 'Toronto and East York')\n",
        "df['WARD'] = df['WARD'].replace([20, 21, 22, 23, 24, 25], 'Scarborough')\n",
        "\n",
        "# Rename 'WARD'\n",
        "df.rename(columns = {'WARD':'AREA'}, inplace = True)\n",
        "df"
      ]
    },
    {
      "cell_type": "code",
      "execution_count": null,
      "metadata": {
        "id": "SayHLP8xnGwU"
      },
      "outputs": [],
      "source": [
        "# Export the dataframe to JSON\n",
        "df.to_json('trees_geo.json', orient='records')"
      ]
    },
    {
      "cell_type": "code",
      "execution_count": null,
      "metadata": {
        "id": "o4oVwdN4nGwV"
      },
      "outputs": [],
      "source": [
        "# Counts by community area\n",
        "df_count_area = df.groupby(['AREA'])['AREA'].count().reset_index(name=\"total\")\n",
        "\n",
        "# Print the data frame\n",
        "df_count_area"
      ]
    },
    {
      "cell_type": "code",
      "execution_count": null,
      "metadata": {
        "id": "iVFpRnIenGwX"
      },
      "outputs": [],
      "source": [
        "# Count the sum of each tree\n",
        "df_count_tree = df.groupby(['COMMON_NAME'])['COMMON_NAME'].count().reset_index(name=\"COUNT\")\n",
        "df_count_tree['COMMON_NAME'] = df_count_tree['COMMON_NAME'].replace('nan', 'Unknown')\n",
        "df_count_tree"
      ]
    },
    {
      "cell_type": "code",
      "execution_count": null,
      "metadata": {
        "id": "gd3pBRV2nGwY"
      },
      "outputs": [],
      "source": [
        "# Group by 'COMMON_NAME' and 'AREA'\n",
        "df_tree_area = df.groupby(['COMMON_NAME', 'AREA']).size().reset_index(name=\"COUNT\")\n",
        "df_tree_area['COMMON_NAME'] = df_tree_area['COMMON_NAME'].replace('nan', 'Unknown')\n",
        "df_tree_area"
      ]
    },
    {
      "cell_type": "code",
      "execution_count": null,
      "metadata": {
        "id": "-9biHAvxnGwe"
      },
      "outputs": [],
      "source": [
        "# Create a new dataframe for JSON\n",
        "list_common = df_tree_area['COMMON_NAME'].drop_duplicates().tolist()\n",
        "df_json = pd.DataFrame(list_common, columns=['Common'])\n",
        "df_json['Latin'] = list_common"
      ]
    },
    {
      "cell_type": "code",
      "execution_count": null,
      "metadata": {
        "id": "VYPz8mhLnGwf"
      },
      "outputs": [],
      "source": [
        "# Add the count of trees for each council area\n",
        "list_council_areas = ['Etobicoke York', 'North York', 'Toronto and East York', 'Scarborough']\n",
        "\n",
        "def countTreesByName(area, tree):\n",
        "    count_trees_areas = df_tree_area.loc[(df_tree_area['COMMON_NAME'] == tree) & (df_tree_area['AREA'] == area)]\n",
        "\n",
        "    if (count_trees_areas.empty == True):\n",
        "        count_trees = 0\n",
        "    else:\n",
        "        count_trees = count_trees_areas['COUNT'].values[0]\n",
        "    return count_trees\n",
        "\n",
        "list_trees_etobicoke = [];\n",
        "list_trees_north_york = [];\n",
        "list_trees_toronto = [];\n",
        "list_trees_scarborough = [];\n",
        "\n",
        "def addCounts(area, li):\n",
        "    for tree in list_common:\n",
        "        count = countTreesByName(area, tree)\n",
        "        li.append(str(count))\n",
        "    df_json[area] = li\n",
        "\n",
        "addCounts('Etobicoke York', list_trees_etobicoke)\n",
        "addCounts('North York', list_trees_north_york)\n",
        "addCounts('Toronto and East York', list_trees_toronto)\n",
        "addCounts('Scarborough', list_trees_scarborough)\n",
        "\n",
        "df_json"
      ]
    },
    {
      "cell_type": "code",
      "execution_count": null,
      "metadata": {
        "id": "FWrKgHgonGwg"
      },
      "outputs": [],
      "source": [
        "# Export the dataframe to JSON\n",
        "df_json.to_json('common.json', orient='records')"
      ]
    }
  ],
  "metadata": {
    "kernelspec": {
      "display_name": "Python 3 (ipykernel)",
      "language": "python",
      "name": "python3"
    },
    "language_info": {
      "codemirror_mode": {
        "name": "ipython",
        "version": 3
      },
      "file_extension": ".py",
      "mimetype": "text/x-python",
      "name": "python",
      "nbconvert_exporter": "python",
      "pygments_lexer": "ipython3",
      "version": "3.8.10"
    },
    "colab": {
      "name": "clean-street-trees_v9.ipynb",
      "provenance": [],
      "collapsed_sections": []
    }
  },
  "nbformat": 4,
  "nbformat_minor": 0
}